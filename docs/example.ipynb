{
 "cells": [
  {
   "cell_type": "markdown",
   "metadata": {},
   "source": [
    "# Setup\n",
    "## Install Dependencies\n",
    "\n",
    "```\n",
    "pip install ctoybox \n",
    "pip install matplotlib # used in this notebook; not necessary!\n",
    "```\n",
    "\n",
    "## Import Packages"
   ]
  },
  {
   "cell_type": "code",
   "execution_count": 1,
   "metadata": {},
   "outputs": [],
   "source": [
    "from ctoybox import Toybox, Input\n",
    "import numpy as np\n",
    "import json\n",
    "\n",
    "from matplotlib.pyplot import imshow, subplots, tight_layout\n",
    "%matplotlib inline"
   ]
  },
  {
   "cell_type": "markdown",
   "metadata": {},
   "source": [
    "# Inspect Breakout\n",
    "\n",
    "We create an instance of Toybox's Breakout implementation here in a with-block. This block ensures that all memory gets released when finished (in case you don't want to wait for the object to be deleted by python!)\n",
    "\n",
    "We use ``matplotlib``'s ``imshow`` to look at the color image of the very first frame. But nothing happens until we press the FIRE button to get a ball."
   ]
  },
  {
   "cell_type": "code",
   "execution_count": 2,
   "metadata": {},
   "outputs": [
    {
     "name": "stdout",
     "output_type": "stream",
     "text": [
      "lives: 5, score: 0, game_over?: False\n"
     ]
    },
    {
     "data": {
      "image/png": "[encoded data removed]",
      "text/plain": [
       "<Figure size 432x288 with 1 Axes>"
      ]
     },
     "metadata": {
      "needs_background": "light"
     },
     "output_type": "display_data"
    }
   ],
   "source": [
    "with Toybox(\"breakout\") as tb:\n",
    "    print('lives: {}, score: {}, game_over?: {}'.format(\n",
    "        tb.get_lives(), tb.get_score(), tb.game_over()))\n",
    "    imshow(tb.get_rgb_frame())"
   ]
  },
  {
   "cell_type": "markdown",
   "metadata": {},
   "source": [
    "# Explore Breakout over time:\n",
    "\n",
    "First, we use the ``Input`` struct to create actions ``fire`` and ``noop`` to send to the game.\n",
    "\n",
    "Then, we send ``fire`` once, and ``noop`` 60 times. We save a frame image every 20 frames.\n",
    "\n",
    "Finally, we use ``imshow`` with ``np.hstack`` to show all images at once!"
   ]
  },
  {
   "cell_type": "code",
   "execution_count": 7,
   "metadata": {},
   "outputs": [
    {
     "data": {
      "image/png": "[encoded data removed]",
      "text/plain": [
       "<Figure size 648x288 with 1 Axes>"
      ]
     },
     "metadata": {
      "needs_background": "light"
     },
     "output_type": "display_data"
    }
   ],
   "source": [
    "# Construct our two actions: fire & nothing\n",
    "fire = Input()\n",
    "fire.button1 = True\n",
    "noop = Input()\n",
    "\n",
    "# We will collect rendered frames in this variable.\n",
    "frames = []\n",
    "with Toybox('breakout') as tb:\n",
    "    tb.apply_action(fire) # fire to get first ball!\n",
    "    frames.append(tb.get_rgb_frame())\n",
    "    \n",
    "    # see what happens over time!\n",
    "    for i in range(60):\n",
    "        tb.apply_action(noop)\n",
    "        if i % 20 == 0 and i > 0:\n",
    "            frames.append(tb.get_rgb_frame())\n",
    "\n",
    "# render the images we collected horizontally:\n",
    "subplots(figsize=(len(frames)*3, 4))\n",
    "imshow(np.hstack(frames))\n",
    "tight_layout() # makes it a little bigger."
   ]
  },
  {
   "cell_type": "markdown",
   "metadata": {},
   "source": [
    "# What next?\n",
    "\n",
    "Basic interaction with the API allows for the sending of images, and inspection of lives, score, and game_over. This is enough to build a simple gym wrapper if you want to start training RL agents. This core ``ctoybox`` package does not provide one because it should not depend on gym.\n",
    "\n",
    "For more code, checkout our experimentation / main repository: [toybox-rs/Toybox](https://github.com/toybox-rs/Toybox) which uses a fork of openai/baselines to run some experiments and tests."
   ]
  }
 ],
 "metadata": {
  "kernelspec": {
   "display_name": "Python 3",
   "language": "python",
   "name": "python3"
  },
  "language_info": {
   "codemirror_mode": {
    "name": "ipython",
    "version": 3
   },
   "file_extension": ".py",
   "mimetype": "text/x-python",
   "name": "python",
   "nbconvert_exporter": "python",
   "pygments_lexer": "ipython3",
   "version": "3.7.3"
  }
 },
 "nbformat": 4,
 "nbformat_minor": 2
}
